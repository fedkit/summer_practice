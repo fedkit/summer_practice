{
 "cells": [
  {
   "cell_type": "code",
   "execution_count": 12,
   "id": "5bb72a67-eaa2-4db2-ba50-b40b6387e024",
   "metadata": {},
   "outputs": [],
   "source": [
    "import numpy as np\n",
    "import pandas as pd\n",
    "import scanpy as sc\n",
    "import matplotlib.pyplot as plt\n",
    "import seaborn as sns"
   ]
  },
  {
   "cell_type": "code",
   "execution_count": 13,
   "id": "19dc72f0-1bc4-4ba0-9bf2-a5006601048c",
   "metadata": {},
   "outputs": [
    {
     "name": "stdout",
     "output_type": "stream",
     "text": [
      "AnnData object with n_obs × n_vars = 69249 × 129921\n",
      "    obs: 'GEX_pct_counts_mt', 'GEX_n_counts', 'GEX_n_genes', 'GEX_size_factors', 'GEX_phase', 'ATAC_nCount_peaks', 'ATAC_atac_fragments', 'ATAC_reads_in_peaks_frac', 'ATAC_blacklist_fraction', 'ATAC_nucleosome_signal', 'cell_type', 'batch', 'ATAC_pseudotime_order', 'GEX_pseudotime_order', 'Samplename', 'Site', 'DonorNumber', 'Modality', 'VendorLot', 'DonorID', 'DonorAge', 'DonorBMI', 'DonorBloodType', 'DonorRace', 'Ethnicity', 'DonorGender', 'QCMeds', 'DonorSmoker'\n",
      "    var: 'feature_types', 'gene_id'\n",
      "    uns: 'ATAC_gene_activity_var_names', 'dataset_id', 'genome', 'organism'\n",
      "    obsm: 'ATAC_gene_activity', 'ATAC_lsi_full', 'ATAC_lsi_red', 'ATAC_umap', 'GEX_X_pca', 'GEX_X_umap'\n",
      "    layers: 'counts'\n",
      "CPU times: user 46.1 s, sys: 4.39 s, total: 50.5 s\n",
      "Wall time: 50.5 s\n"
     ]
    }
   ],
   "source": [
    "%%time\n",
    "adata = sc.read('./GSE194122_openproblems_neurips2021_multiome_BMMC_processed.h5ad')\n",
    "print(adata)"
   ]
  },
  {
   "cell_type": "code",
   "execution_count": 14,
   "id": "99c60a0f-72ce-453a-8c23-2c1f2139f4e9",
   "metadata": {},
   "outputs": [
    {
     "data": {
      "text/html": [
       "<div>\n",
       "<style scoped>\n",
       "    .dataframe tbody tr th:only-of-type {\n",
       "        vertical-align: middle;\n",
       "    }\n",
       "\n",
       "    .dataframe tbody tr th {\n",
       "        vertical-align: top;\n",
       "    }\n",
       "\n",
       "    .dataframe thead th {\n",
       "        text-align: right;\n",
       "    }\n",
       "</style>\n",
       "<table border=\"1\" class=\"dataframe\">\n",
       "  <thead>\n",
       "    <tr style=\"text-align: right;\">\n",
       "      <th></th>\n",
       "      <th>GEX_pct_counts_mt</th>\n",
       "      <th>GEX_n_counts</th>\n",
       "      <th>GEX_n_genes</th>\n",
       "      <th>GEX_size_factors</th>\n",
       "      <th>GEX_phase</th>\n",
       "      <th>ATAC_nCount_peaks</th>\n",
       "      <th>ATAC_atac_fragments</th>\n",
       "      <th>ATAC_reads_in_peaks_frac</th>\n",
       "      <th>ATAC_blacklist_fraction</th>\n",
       "      <th>ATAC_nucleosome_signal</th>\n",
       "      <th>...</th>\n",
       "      <th>VendorLot</th>\n",
       "      <th>DonorID</th>\n",
       "      <th>DonorAge</th>\n",
       "      <th>DonorBMI</th>\n",
       "      <th>DonorBloodType</th>\n",
       "      <th>DonorRace</th>\n",
       "      <th>Ethnicity</th>\n",
       "      <th>DonorGender</th>\n",
       "      <th>QCMeds</th>\n",
       "      <th>DonorSmoker</th>\n",
       "    </tr>\n",
       "  </thead>\n",
       "  <tbody>\n",
       "    <tr>\n",
       "      <th>TAGTTGTCACCCTCAC-1-s1d1</th>\n",
       "      <td>1.061008</td>\n",
       "      <td>1508.0</td>\n",
       "      <td>1022</td>\n",
       "      <td>0.453484</td>\n",
       "      <td>S</td>\n",
       "      <td>4031.0</td>\n",
       "      <td>5400</td>\n",
       "      <td>0.746481</td>\n",
       "      <td>0.003473</td>\n",
       "      <td>0.642468</td>\n",
       "      <td>...</td>\n",
       "      <td>3054455</td>\n",
       "      <td>15078</td>\n",
       "      <td>34</td>\n",
       "      <td>24.8</td>\n",
       "      <td>B-</td>\n",
       "      <td>White</td>\n",
       "      <td>HISPANIC OR LATINO</td>\n",
       "      <td>Male</td>\n",
       "      <td>False</td>\n",
       "      <td>Nonsmoker</td>\n",
       "    </tr>\n",
       "    <tr>\n",
       "      <th>CTATGGCCATAACGGG-1-s1d1</th>\n",
       "      <td>0.604230</td>\n",
       "      <td>1655.0</td>\n",
       "      <td>1081</td>\n",
       "      <td>0.455631</td>\n",
       "      <td>G2M</td>\n",
       "      <td>8636.0</td>\n",
       "      <td>19266</td>\n",
       "      <td>0.448251</td>\n",
       "      <td>0.003126</td>\n",
       "      <td>1.220679</td>\n",
       "      <td>...</td>\n",
       "      <td>3054455</td>\n",
       "      <td>15078</td>\n",
       "      <td>34</td>\n",
       "      <td>24.8</td>\n",
       "      <td>B-</td>\n",
       "      <td>White</td>\n",
       "      <td>HISPANIC OR LATINO</td>\n",
       "      <td>Male</td>\n",
       "      <td>False</td>\n",
       "      <td>Nonsmoker</td>\n",
       "    </tr>\n",
       "    <tr>\n",
       "      <th>CCGCACACAGGTTAAA-1-s1d1</th>\n",
       "      <td>0.650069</td>\n",
       "      <td>7230.0</td>\n",
       "      <td>3304</td>\n",
       "      <td>2.435348</td>\n",
       "      <td>G2M</td>\n",
       "      <td>4674.0</td>\n",
       "      <td>6177</td>\n",
       "      <td>0.756678</td>\n",
       "      <td>0.001284</td>\n",
       "      <td>0.692573</td>\n",
       "      <td>...</td>\n",
       "      <td>3054455</td>\n",
       "      <td>15078</td>\n",
       "      <td>34</td>\n",
       "      <td>24.8</td>\n",
       "      <td>B-</td>\n",
       "      <td>White</td>\n",
       "      <td>HISPANIC OR LATINO</td>\n",
       "      <td>Male</td>\n",
       "      <td>False</td>\n",
       "      <td>Nonsmoker</td>\n",
       "    </tr>\n",
       "    <tr>\n",
       "      <th>TCATTTGGTAATGGAA-1-s1d1</th>\n",
       "      <td>0.812274</td>\n",
       "      <td>1108.0</td>\n",
       "      <td>793</td>\n",
       "      <td>0.347226</td>\n",
       "      <td>G2M</td>\n",
       "      <td>2803.0</td>\n",
       "      <td>4019</td>\n",
       "      <td>0.697437</td>\n",
       "      <td>0.000714</td>\n",
       "      <td>0.633838</td>\n",
       "      <td>...</td>\n",
       "      <td>3054455</td>\n",
       "      <td>15078</td>\n",
       "      <td>34</td>\n",
       "      <td>24.8</td>\n",
       "      <td>B-</td>\n",
       "      <td>White</td>\n",
       "      <td>HISPANIC OR LATINO</td>\n",
       "      <td>Male</td>\n",
       "      <td>False</td>\n",
       "      <td>Nonsmoker</td>\n",
       "    </tr>\n",
       "    <tr>\n",
       "      <th>ACCACATAGGTGTCCA-1-s1d1</th>\n",
       "      <td>1.674770</td>\n",
       "      <td>1851.0</td>\n",
       "      <td>1219</td>\n",
       "      <td>0.534205</td>\n",
       "      <td>G2M</td>\n",
       "      <td>1790.0</td>\n",
       "      <td>2568</td>\n",
       "      <td>0.697040</td>\n",
       "      <td>0.003352</td>\n",
       "      <td>0.727660</td>\n",
       "      <td>...</td>\n",
       "      <td>3054455</td>\n",
       "      <td>15078</td>\n",
       "      <td>34</td>\n",
       "      <td>24.8</td>\n",
       "      <td>B-</td>\n",
       "      <td>White</td>\n",
       "      <td>HISPANIC OR LATINO</td>\n",
       "      <td>Male</td>\n",
       "      <td>False</td>\n",
       "      <td>Nonsmoker</td>\n",
       "    </tr>\n",
       "  </tbody>\n",
       "</table>\n",
       "<p>5 rows × 28 columns</p>\n",
       "</div>"
      ],
      "text/plain": [
       "                         GEX_pct_counts_mt  GEX_n_counts  GEX_n_genes  \\\n",
       "TAGTTGTCACCCTCAC-1-s1d1           1.061008        1508.0         1022   \n",
       "CTATGGCCATAACGGG-1-s1d1           0.604230        1655.0         1081   \n",
       "CCGCACACAGGTTAAA-1-s1d1           0.650069        7230.0         3304   \n",
       "TCATTTGGTAATGGAA-1-s1d1           0.812274        1108.0          793   \n",
       "ACCACATAGGTGTCCA-1-s1d1           1.674770        1851.0         1219   \n",
       "\n",
       "                         GEX_size_factors GEX_phase  ATAC_nCount_peaks  \\\n",
       "TAGTTGTCACCCTCAC-1-s1d1          0.453484         S             4031.0   \n",
       "CTATGGCCATAACGGG-1-s1d1          0.455631       G2M             8636.0   \n",
       "CCGCACACAGGTTAAA-1-s1d1          2.435348       G2M             4674.0   \n",
       "TCATTTGGTAATGGAA-1-s1d1          0.347226       G2M             2803.0   \n",
       "ACCACATAGGTGTCCA-1-s1d1          0.534205       G2M             1790.0   \n",
       "\n",
       "                         ATAC_atac_fragments  ATAC_reads_in_peaks_frac  \\\n",
       "TAGTTGTCACCCTCAC-1-s1d1                 5400                  0.746481   \n",
       "CTATGGCCATAACGGG-1-s1d1                19266                  0.448251   \n",
       "CCGCACACAGGTTAAA-1-s1d1                 6177                  0.756678   \n",
       "TCATTTGGTAATGGAA-1-s1d1                 4019                  0.697437   \n",
       "ACCACATAGGTGTCCA-1-s1d1                 2568                  0.697040   \n",
       "\n",
       "                         ATAC_blacklist_fraction  ATAC_nucleosome_signal  ...  \\\n",
       "TAGTTGTCACCCTCAC-1-s1d1                 0.003473                0.642468  ...   \n",
       "CTATGGCCATAACGGG-1-s1d1                 0.003126                1.220679  ...   \n",
       "CCGCACACAGGTTAAA-1-s1d1                 0.001284                0.692573  ...   \n",
       "TCATTTGGTAATGGAA-1-s1d1                 0.000714                0.633838  ...   \n",
       "ACCACATAGGTGTCCA-1-s1d1                 0.003352                0.727660  ...   \n",
       "\n",
       "                        VendorLot DonorID  DonorAge  DonorBMI DonorBloodType  \\\n",
       "TAGTTGTCACCCTCAC-1-s1d1   3054455   15078        34      24.8             B-   \n",
       "CTATGGCCATAACGGG-1-s1d1   3054455   15078        34      24.8             B-   \n",
       "CCGCACACAGGTTAAA-1-s1d1   3054455   15078        34      24.8             B-   \n",
       "TCATTTGGTAATGGAA-1-s1d1   3054455   15078        34      24.8             B-   \n",
       "ACCACATAGGTGTCCA-1-s1d1   3054455   15078        34      24.8             B-   \n",
       "\n",
       "                        DonorRace           Ethnicity DonorGender  QCMeds  \\\n",
       "TAGTTGTCACCCTCAC-1-s1d1     White  HISPANIC OR LATINO        Male   False   \n",
       "CTATGGCCATAACGGG-1-s1d1     White  HISPANIC OR LATINO        Male   False   \n",
       "CCGCACACAGGTTAAA-1-s1d1     White  HISPANIC OR LATINO        Male   False   \n",
       "TCATTTGGTAATGGAA-1-s1d1     White  HISPANIC OR LATINO        Male   False   \n",
       "ACCACATAGGTGTCCA-1-s1d1     White  HISPANIC OR LATINO        Male   False   \n",
       "\n",
       "                         DonorSmoker  \n",
       "TAGTTGTCACCCTCAC-1-s1d1    Nonsmoker  \n",
       "CTATGGCCATAACGGG-1-s1d1    Nonsmoker  \n",
       "CCGCACACAGGTTAAA-1-s1d1    Nonsmoker  \n",
       "TCATTTGGTAATGGAA-1-s1d1    Nonsmoker  \n",
       "ACCACATAGGTGTCCA-1-s1d1    Nonsmoker  \n",
       "\n",
       "[5 rows x 28 columns]"
      ]
     },
     "execution_count": 14,
     "metadata": {},
     "output_type": "execute_result"
    }
   ],
   "source": [
    "adata.obs.head()"
   ]
  },
  {
   "cell_type": "code",
   "execution_count": 15,
   "id": "b4b7c0af-0352-4171-8376-45c9a110afc5",
   "metadata": {},
   "outputs": [],
   "source": [
    "X = adata.X"
   ]
  },
  {
   "cell_type": "code",
   "execution_count": 16,
   "id": "d06863c2-369f-4039-9e1b-66eef888d3f6",
   "metadata": {},
   "outputs": [],
   "source": [
    "labels = adata.obs['cell_type']"
   ]
  },
  {
   "cell_type": "code",
   "execution_count": 17,
   "id": "e25d41d1-7172-496b-bb11-b9a413cf86b9",
   "metadata": {},
   "outputs": [],
   "source": [
    "from sklearn.neighbors import LocalOutlierFactor\n",
    "from scipy.sparse import issparse, csr_matrix\n",
    "\n",
    "def remove_outliers_and_labels(adata, label_key='cell_type', n_top_genes=5000, n_pcs=50, n_neighbors=20, contamination='auto', copy=False):\n",
    "    if copy:\n",
    "        adata = adata.copy()\n",
    "    \n",
    "    if label_key not in adata.obs:\n",
    "        raise ValueError(f\"Label key '{label_key}' not found in adata.obs\")\n",
    "    \n",
    "    original_X = adata.X\n",
    "    labels = adata.obs[label_key].copy()\n",
    "    \n",
    "    adata_norm = adata.copy()\n",
    "    sc.pp.filter_genes(adata_norm, min_cells=10)\n",
    "    sc.pp.normalize_total(adata_norm, target_sum=1e4)\n",
    "    sc.pp.log1p(adata_norm)\n",
    "    \n",
    "    sc.pp.highly_variable_genes(adata_norm, n_top_genes=n_top_genes, subset=True)\n",
    "    sc.tl.pca(adata_norm, n_comps=n_pcs, svd_solver='arpack')\n",
    "    \n",
    "    lof = LocalOutlierFactor(n_neighbors=n_neighbors, contamination=contamination)\n",
    "    outliers = lof.fit_predict(adata_norm.obsm['X_pca']) == -1\n",
    "    \n",
    "    adata_filtered = adata[~outliers, :].copy()\n",
    "    \n",
    "    adata_filtered.X = original_X[~outliers, :]\n",
    "    if issparse(original_X):\n",
    "        adata_filtered.X = csr_matrix(adata_filtered.X) if not issparse(adata_filtered.X) else adata_filtered.X\n",
    "    \n",
    "    filtered_labels = labels[~outliers]\n",
    "    \n",
    "    print(f'Удалено {outliers.sum()} выбросов из {len(outliers)} клеток')\n",
    "    print(f'Осталось {len(filtered_labels)} меток')\n",
    "    \n",
    "    return adata_filtered, filtered_labels"
   ]
  },
  {
   "cell_type": "code",
   "execution_count": 18,
   "id": "6a115cd3-86bb-4719-8bb8-6c4068689ee9",
   "metadata": {},
   "outputs": [
    {
     "name": "stdout",
     "output_type": "stream",
     "text": [
      "Удалено 2069 выбросов из 69249 клеток\n",
      "Осталось 67180 меток\n"
     ]
    }
   ],
   "source": [
    "adata, labels = remove_outliers_and_labels(adata, label_key='cell_type', copy=True)"
   ]
  },
  {
   "cell_type": "code",
   "execution_count": 19,
   "id": "a8f29772-5368-4ce6-a9a4-4ba6c1a7277f",
   "metadata": {},
   "outputs": [],
   "source": [
    "X = adata.X"
   ]
  },
  {
   "cell_type": "code",
   "execution_count": 20,
   "id": "8fce9ce8-ed4b-4d77-8674-1d7e5adfd9fb",
   "metadata": {},
   "outputs": [],
   "source": [
    "from scipy.sparse import csr_matrix\n",
    "\n",
    "n, p = X.shape\n",
    "\n",
    "mean = X.mean(axis=0).A1  \n",
    "\n",
    "rows, cols = X.nonzero()\n",
    "data_cen = X.data - mean[cols]\n",
    "X_cen = csr_matrix((data_cen, (rows, cols)), shape=(n, p))"
   ]
  },
  {
   "cell_type": "code",
   "execution_count": 21,
   "id": "4e5d6f5d-e0f5-43b8-bcf3-f3b63b41dd8d",
   "metadata": {},
   "outputs": [],
   "source": [
    "std = np.sqrt(X_cen.power(2).mean(axis=0)).A1\n",
    "std[std == 0] = 1\n",
    "\n",
    "Y_std = data_cen / std[cols]\n",
    "Y = csr_matrix((Y_std, (rows, cols)), shape=X.shape)"
   ]
  },
  {
   "cell_type": "code",
   "execution_count": 22,
   "id": "22edf618-d50c-444b-9d0d-5c6aec247c18",
   "metadata": {},
   "outputs": [],
   "source": [
    "from sklearn.utils.extmath import randomized_svd\n",
    "\n",
    "n_components = 4000 \n",
    "random_state = 42   \n",
    "\n",
    "U, S, Vt = randomized_svd(Y, n_components=n_components, random_state=random_state)\n",
    "n, p = Y.shape"
   ]
  },
  {
   "cell_type": "code",
   "execution_count": 23,
   "id": "72d63eff-89a2-4fc5-af55-0f48035d3605",
   "metadata": {},
   "outputs": [],
   "source": [
    "q = p / n\n",
    "eigenvalues = (S ** 2) / (n - 1)\n",
    "lambda_max = (1 + np.sqrt(q))**2"
   ]
  },
  {
   "cell_type": "code",
   "execution_count": 24,
   "id": "3bca2db8-58a0-4212-a45c-076c7a9553f3",
   "metadata": {},
   "outputs": [
    {
     "name": "stdout",
     "output_type": "stream",
     "text": [
      "Всего вычислено собственных значений: 4000\n",
      "Параметр q (p/n): 1.9339\n",
      "Теоретическая граница случайного спектра (lambda_max): 5.7152\n",
      "Найдено значимых собственных значений: 3022\n",
      "Значимые собственные значения: [5484.6025     878.05835    692.57074   ...    5.7175364    5.716175\n",
      "    5.715971 ]\n"
     ]
    }
   ],
   "source": [
    "significant_mask = eigenvalues > lambda_max\n",
    "significant_eigenvalues = eigenvalues[significant_mask]\n",
    "\n",
    "print(f'Всего вычислено собственных значений: {len(eigenvalues)}')\n",
    "print(f'Параметр q (p/n): {q:.4f}')\n",
    "print(f'Теоретическая граница случайного спектра (lambda_max): {lambda_max:.4f}')\n",
    "print(f'Найдено значимых собственных значений: {len(significant_eigenvalues)}')\n",
    "print(f'Значимые собственные значения: {significant_eigenvalues}')"
   ]
  },
  {
   "cell_type": "code",
   "execution_count": 25,
   "id": "4af9a0e4-6b5b-4022-9fb8-001aa1c6f376",
   "metadata": {},
   "outputs": [],
   "source": [
    "significant_components = Vt[significant_mask] \n",
    "\n",
    "Z = Y @ significant_components.T "
   ]
  },
  {
   "cell_type": "code",
   "execution_count": 26,
   "id": "58d1e17b-4450-472a-994d-2fd488ba688b",
   "metadata": {},
   "outputs": [],
   "source": [
    "np.save('Z.npy', Z)"
   ]
  },
  {
   "cell_type": "code",
   "execution_count": 27,
   "id": "c998dbf5-ef4b-418f-b218-2a55926e8ef7",
   "metadata": {},
   "outputs": [],
   "source": [
    "from sklearn.model_selection import train_test_split\n",
    "from sklearn.ensemble import RandomForestClassifier, VotingClassifier\n",
    "from sklearn.linear_model import LogisticRegression\n",
    "from catboost import CatBoostClassifier\n",
    "from sklearn.metrics import classification_report\n",
    "from sklearn.multioutput import MultiOutputClassifier\n",
    "import numpy as np\n",
    "import pandas as pd"
   ]
  },
  {
   "cell_type": "code",
   "execution_count": 28,
   "id": "193a1cfe-b03a-4df6-a85e-140b0b2a30fd",
   "metadata": {},
   "outputs": [
    {
     "name": "stdout",
     "output_type": "stream",
     "text": [
      "(67180, 3022)\n",
      "(67180,)\n"
     ]
    }
   ],
   "source": [
    "print(Z.shape)\n",
    "print(labels.shape)"
   ]
  },
  {
   "cell_type": "code",
   "execution_count": 29,
   "id": "18b78b3c-48a8-453a-983d-d887f2d3cf45",
   "metadata": {},
   "outputs": [],
   "source": [
    "if isinstance(labels, pd.Series):\n",
    "    labels = labels.values\n",
    "\n",
    "if len(labels.shape) == 1:\n",
    "    labels = labels.reshape(-1, 1)"
   ]
  },
  {
   "cell_type": "code",
   "execution_count": 30,
   "id": "b43041c4-523e-4b18-a279-61dea67cdfac",
   "metadata": {},
   "outputs": [],
   "source": [
    "X_train, X_test, y_train, y_test = train_test_split(\n",
    "    Z, \n",
    "    labels, \n",
    "    test_size=0.2, \n",
    "    random_state=42, \n",
    "    stratify=labels if len(np.unique(labels)) > 1 else None\n",
    ")"
   ]
  },
  {
   "cell_type": "code",
   "execution_count": 31,
   "id": "d29a4556-67a5-46f6-80c3-e28e4b3da9c4",
   "metadata": {},
   "outputs": [],
   "source": [
    "rf = RandomForestClassifier(\n",
    "    n_estimators=100,\n",
    "    random_state=42,\n",
    "    n_jobs=-1,\n",
    "    verbose=0\n",
    ")\n",
    "\n",
    "catboost = CatBoostClassifier(\n",
    "    iterations=100,\n",
    "    random_state=42,\n",
    "    verbose=0,\n",
    "    task_type='CPU'\n",
    ")\n",
    "\n",
    "logreg = LogisticRegression(\n",
    "    max_iter=1000,\n",
    "    random_state=42,\n",
    "    n_jobs=-1\n",
    ")\n",
    "\n",
    "\n",
    "ensemble = VotingClassifier(\n",
    "    estimators=[\n",
    "        ('rf', rf),\n",
    "        ('catboost', catboost),\n",
    "        ('logreg', logreg)\n",
    "    ],\n",
    "    voting='soft'  \n",
    ")"
   ]
  },
  {
   "cell_type": "code",
   "execution_count": 32,
   "id": "98eed5cc-4c22-4cc7-9938-7b7e5b11cbea",
   "metadata": {
    "scrolled": true
   },
   "outputs": [
    {
     "name": "stderr",
     "output_type": "stream",
     "text": [
      "Exception ignored in: <function ResourceTracker.__del__ at 0x795968995f80>\n",
      "Traceback (most recent call last):\n",
      "  File \"/home/fedor/anaconda3/lib/python3.13/multiprocessing/resource_tracker.py\", line 82, in __del__\n",
      "  File \"/home/fedor/anaconda3/lib/python3.13/multiprocessing/resource_tracker.py\", line 91, in _stop\n",
      "  File \"/home/fedor/anaconda3/lib/python3.13/multiprocessing/resource_tracker.py\", line 116, in _stop_locked\n",
      "ChildProcessError: [Errno 10] No child processes\n",
      "Exception ignored in: <function ResourceTracker.__del__ at 0x70566678df80>\n",
      "Traceback (most recent call last):\n",
      "  File \"/home/fedor/anaconda3/lib/python3.13/multiprocessing/resource_tracker.py\", line 82, in __del__\n",
      "  File \"/home/fedor/anaconda3/lib/python3.13/multiprocessing/resource_tracker.py\", line 91, in _stop\n",
      "  File \"/home/fedor/anaconda3/lib/python3.13/multiprocessing/resource_tracker.py\", line 116, in _stop_locked\n",
      "ChildProcessError: [Errno 10] No child processes\n",
      "Exception ignored in: <function ResourceTracker.__del__ at 0x71b72eb85f80>\n",
      "Traceback (most recent call last):\n",
      "  File \"/home/fedor/anaconda3/lib/python3.13/multiprocessing/resource_tracker.py\", line 82, in __del__\n",
      "  File \"/home/fedor/anaconda3/lib/python3.13/multiprocessing/resource_tracker.py\", line 91, in _stop\n",
      "  File \"/home/fedor/anaconda3/lib/python3.13/multiprocessing/resource_tracker.py\", line 116, in _stop_locked\n",
      "ChildProcessError: [Errno 10] No child processes\n",
      "Exception ignored in: <function ResourceTracker.__del__ at 0x7763e998df80>\n",
      "Traceback (most recent call last):\n",
      "  File \"/home/fedor/anaconda3/lib/python3.13/multiprocessing/resource_tracker.py\", line 82, in __del__\n",
      "  File \"/home/fedor/anaconda3/lib/python3.13/multiprocessing/resource_tracker.py\", line 91, in _stop\n",
      "  File \"/home/fedor/anaconda3/lib/python3.13/multiprocessing/resource_tracker.py\", line 116, in _stop_locked\n",
      "ChildProcessError: [Errno 10] No child processes\n",
      "Exception ignored in: <function ResourceTracker.__del__ at 0x7df4a117df80>\n",
      "Traceback (most recent call last):\n",
      "  File \"/home/fedor/anaconda3/lib/python3.13/multiprocessing/resource_tracker.py\", line 82, in __del__\n",
      "  File \"/home/fedor/anaconda3/lib/python3.13/multiprocessing/resource_tracker.py\", line 91, in _stop\n",
      "  File \"/home/fedor/anaconda3/lib/python3.13/multiprocessing/resource_tracker.py\", line 116, in _stop_locked\n",
      "ChildProcessError: [Errno 10] No child processes\n",
      "Exception ignored in: <function ResourceTracker.__del__ at 0x784126989f80>\n",
      "Traceback (most recent call last):\n",
      "  File \"/home/fedor/anaconda3/lib/python3.13/multiprocessing/resource_tracker.py\", line 82, in __del__\n",
      "  File \"/home/fedor/anaconda3/lib/python3.13/multiprocessing/resource_tracker.py\", line 91, in _stop\n",
      "  File \"/home/fedor/anaconda3/lib/python3.13/multiprocessing/resource_tracker.py\", line 116, in _stop_locked\n",
      "ChildProcessError: [Errno 10] No child processes\n",
      "Exception ignored in: <function ResourceTracker.__del__ at 0x7b633f57df80>\n",
      "Traceback (most recent call last):\n",
      "  File \"/home/fedor/anaconda3/lib/python3.13/multiprocessing/resource_tracker.py\", line 82, in __del__\n",
      "  File \"/home/fedor/anaconda3/lib/python3.13/multiprocessing/resource_tracker.py\", line 91, in _stop\n",
      "  File \"/home/fedor/anaconda3/lib/python3.13/multiprocessing/resource_tracker.py\", line 116, in _stop_locked\n",
      "ChildProcessError: [Errno 10] No child processes\n",
      "Exception ignored in: <function ResourceTracker.__del__ at 0x7fa28738df80>\n",
      "Traceback (most recent call last):\n",
      "  File \"/home/fedor/anaconda3/lib/python3.13/multiprocessing/resource_tracker.py\", line 82, in __del__\n",
      "  File \"/home/fedor/anaconda3/lib/python3.13/multiprocessing/resource_tracker.py\", line 91, in _stop\n",
      "  File \"/home/fedor/anaconda3/lib/python3.13/multiprocessing/resource_tracker.py\", line 116, in _stop_locked\n",
      "ChildProcessError: [Errno 10] No child processes\n",
      "Exception ignored in: <function ResourceTracker.__del__ at 0x75e748989f80>\n",
      "Traceback (most recent call last):\n",
      "  File \"/home/fedor/anaconda3/lib/python3.13/multiprocessing/resource_tracker.py\", line 82, in __del__\n",
      "  File \"/home/fedor/anaconda3/lib/python3.13/multiprocessing/resource_tracker.py\", line 91, in _stop\n",
      "  File \"/home/fedor/anaconda3/lib/python3.13/multiprocessing/resource_tracker.py\", line 116, in _stop_locked\n",
      "ChildProcessError: [Errno 10] No child processes\n",
      "Exception ignored in: <function ResourceTracker.__del__ at 0x7ae88b399f80>\n",
      "Traceback (most recent call last):\n",
      "  File \"/home/fedor/anaconda3/lib/python3.13/multiprocessing/resource_tracker.py\", line 82, in __del__\n",
      "  File \"/home/fedor/anaconda3/lib/python3.13/multiprocessing/resource_tracker.py\", line 91, in _stop\n",
      "  File \"/home/fedor/anaconda3/lib/python3.13/multiprocessing/resource_tracker.py\", line 116, in _stop_locked\n",
      "ChildProcessError: [Errno 10] No child processes\n",
      "Exception ignored in: <function ResourceTracker.__del__ at 0x77bf8298df80>\n",
      "Traceback (most recent call last):\n",
      "  File \"/home/fedor/anaconda3/lib/python3.13/multiprocessing/resource_tracker.py\", line 82, in __del__\n",
      "  File \"/home/fedor/anaconda3/lib/python3.13/multiprocessing/resource_tracker.py\", line 91, in _stop\n",
      "  File \"/home/fedor/anaconda3/lib/python3.13/multiprocessing/resource_tracker.py\", line 116, in _stop_locked\n",
      "ChildProcessError: [Errno 10] No child processes\n",
      "Exception ignored in: <function ResourceTracker.__del__ at 0x740e9b185f80>\n",
      "Traceback (most recent call last):\n",
      "  File \"/home/fedor/anaconda3/lib/python3.13/multiprocessing/resource_tracker.py\", line 82, in __del__\n",
      "  File \"/home/fedor/anaconda3/lib/python3.13/multiprocessing/resource_tracker.py\", line 91, in _stop\n",
      "  File \"/home/fedor/anaconda3/lib/python3.13/multiprocessing/resource_tracker.py\", line 116, in _stop_locked\n",
      "ChildProcessError: [Errno 10] No child processes\n",
      "Exception ignored in: <function ResourceTracker.__del__ at 0x702e66791f80>\n",
      "Traceback (most recent call last):\n",
      "  File \"/home/fedor/anaconda3/lib/python3.13/multiprocessing/resource_tracker.py\", line 82, in __del__\n",
      "  File \"/home/fedor/anaconda3/lib/python3.13/multiprocessing/resource_tracker.py\", line 91, in _stop\n",
      "  File \"/home/fedor/anaconda3/lib/python3.13/multiprocessing/resource_tracker.py\", line 116, in _stop_locked\n",
      "ChildProcessError: [Errno 10] No child processes\n",
      "Exception ignored in: <function ResourceTracker.__del__ at 0x76826d991f80>\n",
      "Traceback (most recent call last):\n",
      "  File \"/home/fedor/anaconda3/lib/python3.13/multiprocessing/resource_tracker.py\", line 82, in __del__\n",
      "  File \"/home/fedor/anaconda3/lib/python3.13/multiprocessing/resource_tracker.py\", line 91, in _stop\n",
      "  File \"/home/fedor/anaconda3/lib/python3.13/multiprocessing/resource_tracker.py\", line 116, in _stop_locked\n",
      "ChildProcessError: [Errno 10] No child processes\n",
      "Exception ignored in: <function ResourceTracker.__del__ at 0x7f8b70795f80>\n",
      "Traceback (most recent call last):\n",
      "  File \"/home/fedor/anaconda3/lib/python3.13/multiprocessing/resource_tracker.py\", line 82, in __del__\n",
      "  File \"/home/fedor/anaconda3/lib/python3.13/multiprocessing/resource_tracker.py\", line 91, in _stop\n",
      "  File \"/home/fedor/anaconda3/lib/python3.13/multiprocessing/resource_tracker.py\", line 116, in _stop_locked\n",
      "ChildProcessError: [Errno 10] No child processes\n",
      "Exception ignored in: <function ResourceTracker.__del__ at 0x703272d89f80>\n",
      "Traceback (most recent call last):\n",
      "  File \"/home/fedor/anaconda3/lib/python3.13/multiprocessing/resource_tracker.py\", line 82, in __del__\n",
      "  File \"/home/fedor/anaconda3/lib/python3.13/multiprocessing/resource_tracker.py\", line 91, in _stop\n",
      "  File \"/home/fedor/anaconda3/lib/python3.13/multiprocessing/resource_tracker.py\", line 116, in _stop_locked\n",
      "ChildProcessError: [Errno 10] No child processes\n",
      "Exception ignored in: <function ResourceTracker.__del__ at 0x7026aa785f80>\n",
      "Traceback (most recent call last):\n",
      "  File \"/home/fedor/anaconda3/lib/python3.13/multiprocessing/resource_tracker.py\", line 82, in __del__\n",
      "  File \"/home/fedor/anaconda3/lib/python3.13/multiprocessing/resource_tracker.py\", line 91, in _stop\n",
      "  File \"/home/fedor/anaconda3/lib/python3.13/multiprocessing/resource_tracker.py\", line 116, in _stop_locked\n",
      "ChildProcessError: [Errno 10] No child processes\n",
      "Exception ignored in: <function ResourceTracker.__del__ at 0x730520585f80>\n",
      "Traceback (most recent call last):\n",
      "  File \"/home/fedor/anaconda3/lib/python3.13/multiprocessing/resource_tracker.py\", line 82, in __del__\n",
      "  File \"/home/fedor/anaconda3/lib/python3.13/multiprocessing/resource_tracker.py\", line 91, in _stop\n",
      "  File \"/home/fedor/anaconda3/lib/python3.13/multiprocessing/resource_tracker.py\", line 116, in _stop_locked\n",
      "ChildProcessError: [Errno 10] No child processes\n",
      "Exception ignored in: <function ResourceTracker.__del__ at 0x7c2be317df80>\n",
      "Traceback (most recent call last):\n",
      "  File \"/home/fedor/anaconda3/lib/python3.13/multiprocessing/resource_tracker.py\", line 82, in __del__\n",
      "  File \"/home/fedor/anaconda3/lib/python3.13/multiprocessing/resource_tracker.py\", line 91, in _stop\n",
      "  File \"/home/fedor/anaconda3/lib/python3.13/multiprocessing/resource_tracker.py\", line 116, in _stop_locked\n",
      "ChildProcessError: [Errno 10] No child processes\n",
      "/home/fedor/anaconda3/lib/python3.13/site-packages/sklearn/linear_model/_logistic.py:465: ConvergenceWarning: lbfgs failed to converge (status=1):\n",
      "STOP: TOTAL NO. OF ITERATIONS REACHED LIMIT.\n",
      "\n",
      "Increase the number of iterations (max_iter) or scale the data as shown in:\n",
      "    https://scikit-learn.org/stable/modules/preprocessing.html\n",
      "Please also refer to the documentation for alternative solver options:\n",
      "    https://scikit-learn.org/stable/modules/linear_model.html#logistic-regression\n",
      "  n_iter_i = _check_optimize_result(\n"
     ]
    },
    {
     "name": "stdout",
     "output_type": "stream",
     "text": [
      "Отчет по классификации:\n",
      "\n",
      "=== Метка 1 ===\n",
      "                     precision    recall  f1-score   support\n",
      "\n",
      "               B1 B      0.914     0.848     0.879       374\n",
      "         CD14+ Mono      0.953     0.977     0.965      2109\n",
      "         CD16+ Mono      0.933     0.920     0.926       362\n",
      "   CD4+ T activated      0.683     0.654     0.668      1074\n",
      "       CD4+ T naive      0.645     0.654     0.649       849\n",
      "             CD8+ T      0.872     0.919     0.895      2271\n",
      "       CD8+ T naive      0.648     0.538     0.588       199\n",
      "       Erythroblast      0.950     0.948     0.949       963\n",
      "           G/M prog      0.631     0.563     0.595       222\n",
      "                HSC      0.711     0.711     0.711       201\n",
      "ID2-hi myeloid prog      1.000     0.471     0.640        17\n",
      "                ILC      0.752     0.510     0.608       155\n",
      "         Lymph prog      0.849     0.846     0.847       338\n",
      "          MK/E prog      0.789     0.671     0.725       167\n",
      "                 NK      0.917     0.948     0.932      1358\n",
      "      Naive CD20+ B      0.918     0.947     0.932       992\n",
      "         Normoblast      0.974     0.958     0.966       355\n",
      "        Plasma cell      0.901     0.877     0.889        73\n",
      "    Proerythroblast      0.824     0.844     0.834       417\n",
      "     Transitional B      0.915     0.893     0.904       552\n",
      "               cDC2      0.870     0.812     0.840       165\n",
      "                pDC      0.975     0.892     0.932       223\n",
      "\n",
      "           accuracy                          0.866     13436\n",
      "          macro avg      0.847     0.791     0.813     13436\n",
      "       weighted avg      0.864     0.866     0.864     13436\n",
      "\n",
      "Accuracy: 0.866\n"
     ]
    }
   ],
   "source": [
    "model = MultiOutputClassifier(ensemble, n_jobs=-1)\n",
    "\n",
    "model.fit(X_train, y_train)\n",
    "\n",
    "y_pred = model.predict(X_test)\n",
    "\n",
    "print(\"Отчет по классификации:\")\n",
    "for i in range(y_test.shape[1]):\n",
    "    print(f\"\\n=== Метка {i+1} ===\")\n",
    "    print(classification_report(\n",
    "        y_test[:, i], \n",
    "        y_pred[:, i], \n",
    "        zero_division=0,\n",
    "        digits=3\n",
    "    ))\n",
    "\n",
    "print(f\"Accuracy: {np.mean(y_pred == y_test):.3f}\")"
   ]
  },
  {
   "cell_type": "code",
   "execution_count": 33,
   "id": "a9894760-e967-4ea0-9bdb-bdde807ad12c",
   "metadata": {},
   "outputs": [],
   "source": [
    "not_significant_mask = eigenvalues <= lambda_max\n",
    "not_significant_eigenvalues = eigenvalues[not_significant_mask]"
   ]
  },
  {
   "cell_type": "code",
   "execution_count": 34,
   "id": "56d5b7d2-4c39-49ad-b82c-90432608b608",
   "metadata": {},
   "outputs": [],
   "source": [
    "test_significant_eigenvalues = np.concatenate([significant_eigenvalues, not_significant_eigenvalues[-20:]])"
   ]
  },
  {
   "cell_type": "code",
   "execution_count": 37,
   "id": "9672bbcd-3e68-44b0-b3c1-614009fd359c",
   "metadata": {},
   "outputs": [],
   "source": [
    "np.save('eigenvalues.npy', eigenvalues)"
   ]
  },
  {
   "cell_type": "code",
   "execution_count": 38,
   "id": "6b76d6c1-d5a4-465a-b0c7-47d7ce07ea55",
   "metadata": {},
   "outputs": [],
   "source": [
    "np.save('Y.npy', Y)\n",
    "np.save('Vt.npy', Vt)"
   ]
  },
  {
   "cell_type": "code",
   "execution_count": 45,
   "id": "cf121dfe-bfab-427a-bb55-f4188a7707fb",
   "metadata": {},
   "outputs": [],
   "source": [
    "labels = pd.DataFrame({'labels': list(labels)})\n",
    "labels.to_csv('labels.csv', index=False)"
   ]
  },
  {
   "cell_type": "code",
   "execution_count": 46,
   "id": "9f984976-512b-4c84-b06a-991e8f3dbaea",
   "metadata": {},
   "outputs": [],
   "source": [
    "np.save('U.npy', Vt)"
   ]
  },
  {
   "cell_type": "code",
   "execution_count": 47,
   "id": "4a9b9f23-9821-469a-83e4-3ed4df958c46",
   "metadata": {},
   "outputs": [
    {
     "name": "stdout",
     "output_type": "stream",
     "text": [
      "5.71523555422111\n"
     ]
    }
   ],
   "source": [
    "print(lambda_max)"
   ]
  },
  {
   "cell_type": "code",
   "execution_count": 49,
   "id": "50766061-602d-4603-a4cb-338056278c27",
   "metadata": {},
   "outputs": [],
   "source": [
    "from scipy.sparse import save_npz, load_npz\n",
    "\n",
    "save_npz('Y.npz', Y)"
   ]
  },
  {
   "cell_type": "code",
   "execution_count": null,
   "id": "f12c95bf-a090-458a-8ff4-0ec88e6adc99",
   "metadata": {},
   "outputs": [],
   "source": []
  }
 ],
 "metadata": {
  "kernelspec": {
   "display_name": "Python 3 (ipykernel)",
   "language": "python",
   "name": "python3"
  },
  "language_info": {
   "codemirror_mode": {
    "name": "ipython",
    "version": 3
   },
   "file_extension": ".py",
   "mimetype": "text/x-python",
   "name": "python",
   "nbconvert_exporter": "python",
   "pygments_lexer": "ipython3",
   "version": "3.13.5"
  }
 },
 "nbformat": 4,
 "nbformat_minor": 5
}
